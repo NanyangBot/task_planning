{
 "cells": [
  {
   "cell_type": "code",
   "execution_count": 1,
   "id": "d9e2821a",
   "metadata": {},
   "outputs": [],
   "source": [
    "import math\n",
    "import cv2\n",
    "import numpy as np\n",
    "import matplotlib.pyplot as plt\n",
    "from scipy import stats\n",
    "from skimage.transform import resize, pyramid_reduce"
   ]
  },
  {
   "cell_type": "code",
   "execution_count": 2,
   "id": "bce95688",
   "metadata": {},
   "outputs": [],
   "source": [
    "def plot(images):\n",
    "    s = 5\n",
    "    n = len(images)\n",
    "    fig, ax = plt.subplots(1,n,figsize=(s*n,s))\n",
    "    if n==1: \n",
    "        ax = imshow(ax,images[-1])\n",
    "    else:\n",
    "        for i, im in enumerate(images):\n",
    "            ax[i] = imshow(ax[i],im)\n",
    "    fig.subplots_adjust(wspace=0.025, hspace=0.025)\n",
    "    plt.show()\n",
    "    \n",
    "def plotpoints(image,points,idx=None):\n",
    "    s = 5\n",
    "    fig, ax = plt.subplots(1,1,figsize=(s,s))\n",
    "    ax = imshow(ax,image)\n",
    "    ax.scatter(*points,c='r',s=5)\n",
    "    if idx:\n",
    "        for ix in idx:\n",
    "            d = 2\n",
    "            ax.scatter(points[0][ix:ix+1],points[1][ix:ix+1],marker='x',c='g',s=40)\n",
    "            ax.annotate(str(ix), (points[0][ix]+d, points[1][ix]+d), color='green', fontsize=20)\n",
    "    else:\n",
    "        d = 0.2\n",
    "        txt = np.arange(0,len(points[0])).astype(str)\n",
    "        for i, t in enumerate(txt):\n",
    "            ax.annotate(t, (points[0][i]+d, points[1][i]+d), color='red')\n",
    "    plt.show()\n",
    "\n",
    "def imshow(ax,im):\n",
    "    ax.imshow(im,cmap='gray')\n",
    "    ax.set_xticks([])\n",
    "    ax.set_yticks([])\n",
    "    return ax\n",
    "\n",
    "def get_square(image, square_size):\n",
    "\n",
    "    height, width = image.shape\n",
    "    if(height > width):\n",
    "        differ = height\n",
    "    else:\n",
    "        differ = width\n",
    "    differ += 4\n",
    "\n",
    "    # square filler\n",
    "    mask = np.zeros((differ, differ), dtype = \"uint8\")\n",
    "\n",
    "    x_pos = int((differ - width) / 2)\n",
    "    y_pos = int((differ - height) / 2)\n",
    "\n",
    "    # center image inside the square\n",
    "    mask[y_pos: y_pos + height, x_pos: x_pos + width] = image[0: height, 0: width]\n",
    "\n",
    "    # downscale if needed\n",
    "    if differ / square_size > 1:\n",
    "        mask = pyramid_reduce(mask, differ / square_size)\n",
    "    else:\n",
    "        mask = resize(mask, (square_size, square_size))\n",
    "        #mask = cv2.resize(mask, (square_size, square_size), interpolation = cv2.INTER_AREA)\n",
    "    return mask"
   ]
  },
  {
   "cell_type": "code",
   "execution_count": 71,
   "id": "250badb1",
   "metadata": {},
   "outputs": [
    {
     "name": "stdout",
     "output_type": "stream",
     "text": [
      "(1, 300, 400)\n"
     ]
    },
    {
     "data": {
      "image/png": "[encoded data removed]",
      "text/plain": [
       "<Figure size 360x360 with 1 Axes>"
      ]
     },
     "metadata": {},
     "output_type": "display_data"
    }
   ],
   "source": [
    "img = cv2.imread('/home/rosi/atika-project/work/2023/iafpp-wp1.3-motion-planner/code/trajectory_planner_ws/src/task_planning/images/freehand.png',0)\n",
    "output = cv2.connectedComponentsWithStatsWithAlgorithm(img,8,cv2.CV_16U,-1)\n",
    "(numLabels, labels, stats, centroids) = output\n",
    "tmp = np.zeros((numLabels-1,)+img.shape, dtype=np.uint8)\n",
    "for l in range(1,numLabels):\n",
    "    tmp[l-1][np.where(labels == l)] = 255\n",
    "print(tmp.shape)\n",
    "plot([t for t in tmp])"
   ]
  },
  {
   "cell_type": "code",
   "execution_count": 72,
   "id": "741898df",
   "metadata": {},
   "outputs": [
    {
     "data": {
      "image/png": "[encoded data removed]",
      "text/plain": [
       "<Figure size 720x360 with 2 Axes>"
      ]
     },
     "metadata": {},
     "output_type": "display_data"
    }
   ],
   "source": [
    "img = tmp[-1]\n",
    "#blur = cv2.blur(img, (35, 35))\n",
    "#thresh = cv2.threshold(blur, 250, 255, cv2.THRESH_BINARY_INV)[1]\n",
    "thresh = cv2.threshold(img, 250, 255, cv2.THRESH_BINARY_INV)[1]\n",
    "plot([img,thresh])"
   ]
  },
  {
   "cell_type": "code",
   "execution_count": 73,
   "id": "27ac21ff",
   "metadata": {},
   "outputs": [
    {
     "data": {
      "image/png": "[encoded data removed]",
      "text/plain": [
       "<Figure size 1080x360 with 3 Axes>"
      ]
     },
     "metadata": {},
     "output_type": "display_data"
    }
   ],
   "source": [
    "mask = get_square(thresh,8)\n",
    "#mask = get_square(img,8)\n",
    "norm = cv2.normalize(mask, None, alpha=255, beta=1, norm_type=cv2.NORM_MINMAX, dtype=cv2.CV_16U).astype(np.uint8)\n",
    "thresh2 = cv2.threshold(norm, 75, 255, cv2.THRESH_BINARY)[1]\n",
    "#thin = cv2.ximgproc.thinning(thresh2, cv2.ximgproc.THINNING_ZHANGSUEN)\n",
    "plot([mask,norm,thresh2])"
   ]
  },
  {
   "cell_type": "code",
   "execution_count": 74,
   "id": "87415da2",
   "metadata": {},
   "outputs": [
    {
     "data": {
      "image/png": "[encoded data removed]",
      "text/plain": [
       "<Figure size 720x360 with 2 Axes>"
      ]
     },
     "metadata": {},
     "output_type": "display_data"
    }
   ],
   "source": [
    "rot = cv2.rotate(thresh2, cv2.ROTATE_90_COUNTERCLOCKWISE)\n",
    "#rot = cv2.rotate(thin, cv2.ROTATE_90_COUNTERCLOCKWISE)\n",
    "flip = cv2.flip(rot, 0)\n",
    "plot([thresh2,flip])"
   ]
  },
  {
   "cell_type": "code",
   "execution_count": 93,
   "id": "963cd3b3",
   "metadata": {},
   "outputs": [
    {
     "name": "stdout",
     "output_type": "stream",
     "text": [
      "Index: 0 \tPoint:  1   4 \tCount: 3\n",
      "Index: 1 \tPoint:  1   5 \tCount: 3\n",
      "Index: 2 \tPoint:  2   4 \tCount: 4\n",
      "Index: 3 \tPoint:  3   5 \tCount: 3\n",
      "Index: 4 \tPoint:  4   3 \tCount: 3\n",
      "Index: 5 \tPoint:  4   4 \tCount: 4\n",
      "Index: 6 \tPoint:  5   3 \tCount: 5\n",
      "Index: 7 \tPoint:  6   2 \tCount: 3\n",
      "Index: 8 \tPoint:  6   3 \tCount: 3\n",
      "---\n",
      "Start index: 0 \tCount: 3\n",
      "End index: 1 \tCount: 3\n"
     ]
    }
   ],
   "source": [
    "pts = np.where(flip>0)\n",
    "n = 3\n",
    "count = []\n",
    "for idx,(px,py) in enumerate(zip(*pts)):\n",
    "    assert flip[px,py] == 255\n",
    "    temp_px = np.arange(max(px-n//2,0),min(px+n//2+1,flip.shape[1])) # width\n",
    "    temp_py = np.arange(max(py-n//2,0),min(py+n//2+1,flip.shape[0])) # height\n",
    "    grid_px, grid_py = np.meshgrid(temp_px, temp_py)\n",
    "    list_px = grid_px.flatten()\n",
    "    list_py = grid_py.flatten()\n",
    "    #vals = np.array([1 if flip[i,j] else 0 for i,j in zip(list_px,list_py)]).reshape((n,n))\n",
    "    vals = [flip[i,j] for i,j in zip(list_px,list_py)]\n",
    "    #print('Index ',idx,'\\n',vals,'\\n---')\n",
    "    grid = np.count_nonzero(vals)\n",
    "    count.append(grid)\n",
    "    print('Index:',idx,'\\tPoint: ',px,' ',py,'\\tCount:',count[idx])\n",
    "    #if idx==8: print(np.array(vals).reshape(len(temp_py),len(temp_px)))\n",
    "assert len(count) == len(pts[0])\n",
    "print('---')\n",
    "pt_start = np.argsort(count)[0]\n",
    "pt_end = np.argsort(count)[1]\n",
    "print('Start index:',pt_start,'\\tCount:',count[pt_start])\n",
    "print('End index:',pt_end,'\\tCount:',count[pt_end])"
   ]
  },
  {
   "cell_type": "code",
   "execution_count": 94,
   "id": "4ca0c008",
   "metadata": {},
   "outputs": [
    {
     "name": "stdout",
     "output_type": "stream",
     "text": [
      "Start index: 0 \tCount: 3\n",
      "End index: 3 \tCount: 3\n"
     ]
    }
   ],
   "source": [
    "pt_end = np.argsort(count)[1]\n",
    "ctn = 0\n",
    "while (abs(pt_start-pt_end) == 1):\n",
    "    pt_end = np.argsort(count)[ctn+2]\n",
    "    ctn += 1\n",
    "print('Start index:',pt_start,'\\tCount:',count[pt_start])\n",
    "print('End index:',pt_end,'\\tCount:',count[pt_end])"
   ]
  },
  {
   "cell_type": "code",
   "execution_count": 92,
   "id": "710cf7dd",
   "metadata": {},
   "outputs": [
    {
     "data": {
      "image/png": "[encoded data removed]",
      "text/plain": [
       "<Figure size 360x360 with 1 Axes>"
      ]
     },
     "metadata": {},
     "output_type": "display_data"
    }
   ],
   "source": [
    "pts = np.where(flip>0)\n",
    "pts = np.array(pts).T\n",
    "N = len(pts)\n",
    "plotpoints(thresh2,pts.T,[pt_start,pt_end])"
   ]
  },
  {
   "cell_type": "code",
   "execution_count": 88,
   "id": "7d36be1c",
   "metadata": {},
   "outputs": [],
   "source": [
    "class Node:\n",
    "\n",
    "    def __init__(self, x, y):\n",
    "\n",
    "        self.x = x \n",
    "        self.y = y\n",
    "        self.f = 0\n",
    "        self.g = 0\n",
    "        self.h = 0\n",
    "        self.neighbors = []\n",
    "        self.previous = None\n",
    "        self.obstacle = False\n",
    "\n",
    "    def add_neighbors(self,grid, columns, rows):\n",
    "\n",
    "        neighbor_x = self.x\n",
    "        neighbor_y = self.y\n",
    "    \n",
    "        if neighbor_x < columns - 1:\n",
    "            self.neighbors.append(grid[neighbor_x+1][neighbor_y])\n",
    "        if neighbor_x > 0:\n",
    "            self.neighbors.append(grid[neighbor_x-1][neighbor_y])\n",
    "        if neighbor_y < rows -1:\n",
    "            self.neighbors.append(grid[neighbor_x][neighbor_y +1])\n",
    "        if neighbor_y > 0: \n",
    "            self.neighbors.append(grid[neighbor_x][neighbor_y-1])\n",
    "        #diagonals\n",
    "        if neighbor_x > 0 and neighbor_y > 0:\n",
    "            self.neighbors.append(grid[neighbor_x-1][neighbor_y-1])\n",
    "        if neighbor_x < columns -1 and neighbor_y > 0:\n",
    "            self.neighbors.append(grid[neighbor_x+1][neighbor_y-1])\n",
    "        if neighbor_x > 0 and neighbor_y <rows -1:\n",
    "            self.neighbors.append(grid[neighbor_x-1][neighbor_y+1])\n",
    "        if neighbor_x < columns -1 and neighbor_y < rows -1:\n",
    "            self.neighbors.append(grid[neighbor_x+1][neighbor_y+1])\n",
    "\n",
    "\n",
    "        \n",
    "class Solver:\n",
    "\n",
    "    def __init__(self, cols, rows, start, end, obstacle_list):\n",
    "\n",
    "        self.cols = cols\n",
    "        self.rows = rows\n",
    "        self.start = start\n",
    "        self.end = end\n",
    "        self.obstacle_list = obstacle_list\n",
    "\n",
    "    @staticmethod\n",
    "    def clean_open_set(open_set, current_node):\n",
    "\n",
    "        for i in range(len(open_set)):\n",
    "            if open_set[i] == current_node:\n",
    "                open_set.pop(i)\n",
    "                break\n",
    "\n",
    "        return open_set\n",
    "\n",
    "    @staticmethod\n",
    "    def h_score(current_node, end):\n",
    "\n",
    "        distance =  abs(current_node.x - end.x) + abs(current_node.y - end.y)\n",
    "        \n",
    "        return distance\n",
    "\n",
    "    @staticmethod\n",
    "    def create_grid(cols, rows):\n",
    "\n",
    "        grid = []\n",
    "        for _ in range(cols):\n",
    "            grid.append([])\n",
    "            for _ in range(rows):\n",
    "                grid[-1].append(0)\n",
    "        \n",
    "        return grid\n",
    "\n",
    "    @staticmethod\n",
    "    def fill_grids(grid, cols, rows, obstacle_list):\n",
    "\n",
    "        for i in range(cols):\n",
    "            for j in range(rows):\n",
    "                grid[i][j] = Node(i,j)\n",
    "\n",
    "        for i in range(len(obstacle_list)):\n",
    "            grid[obstacle_list[i][0]][obstacle_list[i][1]].obstacle = True\n",
    "\n",
    "        return grid\n",
    "\n",
    "    @staticmethod\n",
    "    def get_neighbors(grid, cols, rows):\n",
    "        for i in range(cols):\n",
    "            for j in range(rows):\n",
    "                grid[i][j].add_neighbors(grid, cols, rows)\n",
    "        return grid\n",
    "    \n",
    "    @staticmethod\n",
    "    def start_path(open_set, closed_set, current_node, end):\n",
    "\n",
    "        best_way = 0\n",
    "        for i in range(len(open_set)):\n",
    "            if open_set[i].f < open_set[best_way].f:\n",
    "                best_way = i\n",
    "\n",
    "        current_node = open_set[best_way]\n",
    "        final_path = []\n",
    "        if current_node == end:\n",
    "            temp = current_node\n",
    "            while temp.previous:\n",
    "                final_path.append(temp.previous)\n",
    "                temp = temp.previous\n",
    "            \n",
    "            print(\"Done !!\")\n",
    "\n",
    "        open_set = Solver.clean_open_set(open_set, current_node)\n",
    "        closed_set.append(current_node)\n",
    "        neighbors = current_node.neighbors\n",
    "        for neighbor in neighbors:\n",
    "            if (neighbor in closed_set) or (neighbor.obstacle == True):\n",
    "                continue\n",
    "            else:\n",
    "                temp_g = current_node.g + 1\n",
    "                control_flag = 0\n",
    "                for k in range(len(open_set)):\n",
    "                    if neighbor.x == open_set[k].x and neighbor.y == open_set[k].y:\n",
    "                        if temp_g < open_set[k].g:\n",
    "                            open_set[k].g = temp_g\n",
    "                            open_set[k].h= AStar.h_score(open_set[k], end)\n",
    "                            open_set[k].f = open_set[k].g + open_set[k].h\n",
    "                            open_set[k].previous = current_node\n",
    "                        else:\n",
    "                            pass\n",
    "                        control_flag = 1\n",
    "  \n",
    "                if control_flag == 1:\n",
    "                    pass\n",
    "                else:\n",
    "                    neighbor.g = temp_g\n",
    "                    neighbor.h = Solver.h_score(neighbor, end)\n",
    "                    neighbor.f = neighbor.g + neighbor.h\n",
    "                    neighbor.previous = current_node\n",
    "                    open_set.append(neighbor)\n",
    "\n",
    "        return open_set, closed_set, current_node, final_path\n",
    "\n",
    "    def solve(self):\n",
    "        grid = Solver.create_grid(self.cols, self.rows)\n",
    "        grid = Solver.fill_grids(grid, self.cols, self.rows, self.obstacle_list)\n",
    "        grid = Solver.get_neighbors(grid, self.cols, self.rows)\n",
    "        open_set  = []\n",
    "        closed_set  = []\n",
    "        current_node = None\n",
    "        final_path  = []\n",
    "        open_set.append(grid[self.start[0]][self.start[1]])\n",
    "        self.end = grid[self.end[0]][self.end[1]]\n",
    "        while len(open_set) > 0:\n",
    "            open_set, closed_set, current_node, final_path = Solver.start_path(open_set, closed_set, current_node, self.end)\n",
    "            if len(final_path) > 0:\n",
    "                break\n",
    "\n",
    "        return final_path"
   ]
  },
  {
   "cell_type": "code",
   "execution_count": 89,
   "id": "ee885475",
   "metadata": {},
   "outputs": [
    {
     "name": "stdout",
     "output_type": "stream",
     "text": [
      "Done !!\n"
     ]
    }
   ],
   "source": [
    "data = np.argwhere(flip == 0)\n",
    "\n",
    "cols = flip.shape[0]\n",
    "rows = flip.shape[1]\n",
    "\n",
    "start_x, start_y = pts[pt_start]\n",
    "end_x, end_y = pts[pt_end]\n",
    "\n",
    "a_star = Solver(cols, rows, [start_x, start_y], [end_x, end_y], data)\n",
    "\n",
    "final_path = a_star.solve()"
   ]
  },
  {
   "cell_type": "code",
   "execution_count": 90,
   "id": "207861bd",
   "metadata": {},
   "outputs": [
    {
     "data": {
      "image/png": "[encoded data removed]",
      "text/plain": [
       "<Figure size 360x360 with 1 Axes>"
      ]
     },
     "metadata": {},
     "output_type": "display_data"
    }
   ],
   "source": [
    "new_pts = np.array([[p.x, p.y] for p in final_path[::-1]])\n",
    "new_pts = np.append(new_pts,[pts[pt_end]],axis=0)\n",
    "plotpoints(thresh2,new_pts.T,[0,len(new_pts)-1])"
   ]
  },
  {
   "cell_type": "code",
   "execution_count": 626,
   "id": "4850bcd4",
   "metadata": {},
   "outputs": [],
   "source": [
    "# Python program for Dijkstra's single\n",
    "# source shortest path algorithm. The program is\n",
    "# for adjacency matrix representation of the graph\n",
    " \n",
    "# Library for INT_MAX\n",
    "import sys\n",
    " \n",
    "class Graph():\n",
    " \n",
    "    def __init__(self, vertices):\n",
    "        self.V = vertices\n",
    "        self.graph = [[0 for column in range(vertices)]\n",
    "                      for row in range(vertices)]\n",
    " \n",
    "    # A utility function to find the vertex with\n",
    "    # minimum distance value, from the set of vertices\n",
    "    # not yet included in shortest path tree\n",
    "    def minDistance(self, dist, sptSet):\n",
    " \n",
    "        # Initialize minimum distance for next node\n",
    "        min = sys.maxsize\n",
    " \n",
    "        # Search not nearest vertex not in the\n",
    "        # shortest path tree\n",
    "        for u in range(self.V):\n",
    "            if dist[u] < min and sptSet[u] == False:\n",
    "                min = dist[u]\n",
    "                min_index = u\n",
    " \n",
    "        return min_index\n",
    " \n",
    "    # Function that implements Dijkstra's single source\n",
    "    # shortest path algorithm for a graph represented\n",
    "    # using adjacency matrix representation\n",
    "    def dijkstra(self, src):\n",
    " \n",
    "        path = [0] * self.V\n",
    "        dist = [sys.maxsize] * self.V\n",
    "        dist[src] = 0\n",
    "        sptSet = [False] * self.V\n",
    " \n",
    "        for cout in range(self.V):\n",
    " \n",
    "            # Pick the minimum distance vertex from\n",
    "            # the set of vertices not yet processed.\n",
    "            # x is always equal to src in first iteration\n",
    "            x = self.minDistance(dist, sptSet)\n",
    " \n",
    "            # Put the minimum distance vertex in the\n",
    "            # shortest path tree\n",
    "            sptSet[x] = True\n",
    "            path[cout] = x\n",
    " \n",
    "            # Update dist value of the adjacent vertices\n",
    "            # of the picked vertex only if the current\n",
    "            # distance is greater than new distance and\n",
    "            # the vertex in not in the shortest path tree\n",
    "            for y in range(self.V):\n",
    "                if self.graph[x][y] > 0 and sptSet[y] == False and \\\n",
    "                        dist[y] > dist[x] + self.graph[x][y]:\n",
    "                    dist[y] = dist[x] + self.graph[x][y]\n",
    " \n",
    "        return path"
   ]
  },
  {
   "cell_type": "code",
   "execution_count": 628,
   "id": "ea2e68fa",
   "metadata": {},
   "outputs": [
    {
     "data": {
      "image/png": "[encoded data removed]",
      "text/plain": [
       "<Figure size 360x360 with 1 Axes>"
      ]
     },
     "metadata": {},
     "output_type": "display_data"
    }
   ],
   "source": [
    "n = len(pts)\n",
    "adj = [np.linalg.norm(pts-p,axis=1).tolist() for p in pts]\n",
    "    \n",
    "g = Graph(n)\n",
    "g.graph = adj\n",
    "path = g.dijkstra(pt_start)\n",
    "\n",
    "new_pts = pts[path]\n",
    "plotpoints(thin,new_pts.T,[0,len(new_pts)-1])\n",
    "#plotpoints(thin,new_pts.T,[0,8])"
   ]
  },
  {
   "cell_type": "code",
   "execution_count": 360,
   "id": "b4d654dc",
   "metadata": {},
   "outputs": [
    {
     "data": {
      "image/png": "[encoded data removed]",
      "text/plain": [
       "<Figure size 432x288 with 1 Axes>"
      ]
     },
     "metadata": {
      "needs_background": "light"
     },
     "output_type": "display_data"
    }
   ],
   "source": [
    "data = np.copy(pts)\n",
    "# Compute KDE\n",
    "kde = stats.gaussian_kde(data.T)\n",
    "# Choice probabilities are computed from inverse probability density in KDE\n",
    "p = 1 / kde.pdf(data.T)\n",
    "# Normalize choice probabilities\n",
    "p /= np.sum(p)\n",
    "# Make sample using choice probabilities\n",
    "idx = np.random.choice(np.arange(len(data)), size=30, replace=False, p=p)\n",
    "sample = data[idx]\n",
    "\n",
    "plt.scatter(*pts.T, marker='o', c='g', alpha=0.5, label=\"original points\")\n",
    "plt.scatter(*sample.T, marker='x', c='r', label=\"{} points -> {} points\".format(len(data),len(sample)))\n",
    "plt.legend()\n",
    "plt.show()"
   ]
  },
  {
   "cell_type": "code",
   "execution_count": null,
   "id": "0d9f30ac",
   "metadata": {},
   "outputs": [],
   "source": []
  }
 ],
 "metadata": {
  "kernelspec": {
   "display_name": "Python 3 (ipykernel)",
   "language": "python",
   "name": "python3"
  },
  "language_info": {
   "codemirror_mode": {
    "name": "ipython",
    "version": 3
   },
   "file_extension": ".py",
   "mimetype": "text/x-python",
   "name": "python",
   "nbconvert_exporter": "python",
   "pygments_lexer": "ipython3",
   "version": "3.10.6"
  }
 },
 "nbformat": 4,
 "nbformat_minor": 5
}
